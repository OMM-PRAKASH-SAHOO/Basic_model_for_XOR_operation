{
  "nbformat": 4,
  "nbformat_minor": 0,
  "metadata": {
    "colab": {
      "name": "Q1_Completed.ipynb",
      "provenance": [],
      "collapsed_sections": []
    },
    "kernelspec": {
      "name": "python3",
      "display_name": "Python 3"
    },
    "language_info": {
      "name": "python"
    },
    "accelerator": "GPU"
  },
  "cells": [
    {
      "cell_type": "code",
      "metadata": {
        "id": "9ZX29G3XZJoQ"
      },
      "source": [
        "import numpy as np\n",
        "import matplotlib.pyplot as plt\n",
        "import matplotlib as pl\n",
        "%matplotlib inline"
      ],
      "execution_count": null,
      "outputs": []
    },
    {
      "cell_type": "markdown",
      "metadata": {
        "id": "FvQnSJyqnLzY"
      },
      "source": [
        "### Function & Learning Rate"
      ]
    },
    {
      "cell_type": "code",
      "metadata": {
        "id": "rUXiGPJTaGXw"
      },
      "source": [
        "def act_function(x):\n",
        "  return 1/(1+np.exp(-x))\n",
        "def grad_act(x):\n",
        "  return x*(1-x)\n",
        "#l1_rate is learning rate for bias\n",
        "l1_rates = [0.00001 , 0.0001 , 0.001 , 0.01 , 0.1 , 1]\n",
        "#l_rate is learning rate for weights\n",
        "l_rates = [0.00001 , 0.0001 , 0.001 , 0.01 , 0.1 , 1]\n",
        "n = 10000"
      ],
      "execution_count": null,
      "outputs": []
    },
    {
      "cell_type": "markdown",
      "metadata": {
        "id": "vXHFXaeYlhIj"
      },
      "source": [
        "## Training Nural Network For XNOR"
      ]
    },
    {
      "cell_type": "code",
      "metadata": {
        "colab": {
          "base_uri": "https://localhost:8080/",
          "height": 503
        },
        "id": "oYKPQwgPloO1",
        "outputId": "1f5c8ccb-edb6-4c74-e0bf-f641245be68b"
      },
      "source": [
        "x = np.array([[1,1],[1,0],[0,1],[0,0]])\n",
        "y = np.array([[1],[0],[0],[1]])\n",
        "epoc_frequency = 10000\n",
        "loss_collect = []\n",
        "l_rate , l1_rate = 0.1 , 0.1\n",
        "N,D,H,Y = 1,2,2,1\n",
        "xnor_w1 = np.random.uniform(size = (D,H))\n",
        "xnor_b1 = np.random.uniform(size = (1,H))\n",
        "xnor_w2 = np.random.uniform(size = (H,Y))\n",
        "xnor_b2 = np.random.uniform(size = (1,Y))\n",
        "for i in range(n):\n",
        "\n",
        "  l1 = x.dot(xnor_w1)\n",
        "  l1 += xnor_b1\n",
        "  h1 = act_function(l1)\n",
        "\n",
        "  l2 = h1.dot(xnor_w2)\n",
        "  l2 += xnor_b2\n",
        "  pred_y = act_function(l2)\n",
        "\n",
        "  loss = 0.5*(np.square(y-pred_y))\n",
        "  loss_value = np.mean(loss)\n",
        "\n",
        "  grad_loss = y-pred_y\n",
        "  grad_l2 = grad_loss*grad_act(pred_y)\n",
        "  grad_xnor_w2 = h1.T.dot(grad_l2)\n",
        "  grad_h1 = grad_l2.dot(xnor_w2.T)\n",
        "  grad_l1 = grad_h1*grad_act(h1)\n",
        "  grad_xnor_w1 = x.T.dot(grad_l1)\n",
        "\n",
        "  xnor_w1 += l_rate * grad_xnor_w1\n",
        "  xnor_b1 += np.sum(grad_l1,axis = 0,keepdims = True) * l1_rate\n",
        "  xnor_w2 += l_rate * grad_xnor_w2\n",
        "  xnor_b2 += np.sum(grad_l2,axis = 0,keepdims = True) * l1_rate\n",
        "\n",
        "  #if i%1000 == 0:\n",
        "  loss_collect.append(loss_value)\n",
        "\n",
        "print('xnor_w1: ' , *xnor_w1)\n",
        "print('xnor_w2: ' , *xnor_w2)\n",
        "print('xnor_b1: ' , *xnor_b1)\n",
        "print('xnor_b2: ' , *xnor_b2)  \n",
        "print('Predictions: ','\\n\\n\\n' , pred_y)\n",
        "#plt.figure(figsize = (12.8,9.6))\n",
        "plt.plot(range(n) , loss_collect)\n",
        "plt.grid(True)\n",
        "plt.xlabel('No. of epochs' , color = 'g')\n",
        "plt.ylabel('Loss', color = 'g')\n",
        "plt.title('Loss Value VS Epochs',color = 'r' )\n"
      ],
      "execution_count": null,
      "outputs": [
        {
          "output_type": "stream",
          "text": [
            "xnor_w1:  [ 4.78746622 -1.40525313] [6.79617993 5.5365723 ]\n",
            "xnor_w2:  [-5.72369465] [4.30722899]\n",
            "xnor_b1:  [-1.0063867   0.86960921]\n",
            "xnor_b2:  [1.40975832]\n",
            "Predictions:  \n",
            "\n",
            "\n",
            " [[0.49115846]\n",
            " [0.06939659]\n",
            " [0.50091116]\n",
            " [0.94846718]]\n"
          ],
          "name": "stdout"
        },
        {
          "output_type": "execute_result",
          "data": {
            "text/plain": [
              "Text(0.5, 1.0, 'Loss Value VS Epochs')"
            ]
          },
          "metadata": {
            "tags": []
          },
          "execution_count": 17
        },
        {
          "output_type": "display_data",
          "data": {
            "image/png": "[encoded data removed]",
            "text/plain": [
              "<Figure size 432x288 with 1 Axes>"
            ]
          },
          "metadata": {
            "tags": [],
            "needs_background": "light"
          }
        }
      ]
    },
    {
      "cell_type": "markdown",
      "metadata": {
        "id": "J4-KgpnjlPrK"
      },
      "source": [
        "## Training Nural Network for XOR"
      ]
    },
    {
      "cell_type": "code",
      "metadata": {
        "colab": {
          "base_uri": "https://localhost:8080/",
          "height": 503
        },
        "id": "3fOwOQA4cSHJ",
        "outputId": "dde4a89d-afc0-4af2-e039-ff4b75b264f3"
      },
      "source": [
        "x = np.array([[1,1],[1,0],[0,1],[0,0]])\n",
        "y = np.array([[0],[1],[1],[0]])\n",
        "epoc_frequency = 10000\n",
        "loss_collect = []\n",
        "#After obserbing above graph I fixed the biases to 1\n",
        "l_rate , l1_rate = 1 , 1\n",
        "N,D,H,Y = 1,2,2,1\n",
        "xor_w1 = np.random.uniform(size = (D,H))\n",
        "xor_b1 = np.random.uniform(size = (1,H))\n",
        "xor_w2 = np.random.uniform(size = (H,Y))\n",
        "xor_b2 = np.random.uniform(size = (1,Y))\n",
        "for i in range(n):\n",
        "\n",
        "  l1 = x.dot(xor_w1)\n",
        "  l1 += xor_b1\n",
        "  h1 = act_function(l1)\n",
        "\n",
        "  l2 = h1.dot(xor_w2)\n",
        "  l2 += xor_b2\n",
        "  pred_y = act_function(l2)\n",
        "\n",
        "  loss = 0.5*(np.square(y-pred_y))\n",
        "  loss_value = np.mean(loss)\n",
        "\n",
        "  grad_loss = y-pred_y\n",
        "  grad_l2 = grad_loss*grad_act(pred_y)\n",
        "  grad_xor_w2 = h1.T.dot(grad_l2)\n",
        "  grad_h1 = grad_l2.dot(xor_w2.T)\n",
        "  grad_l1 = grad_h1*grad_act(h1)\n",
        "  grad_xor_w1 = x.T.dot(grad_l1)\n",
        "\n",
        "  xor_w1 += l_rate * grad_xor_w1\n",
        "  xor_b1 += np.sum(grad_l1,axis = 0,keepdims = True) * l1_rate\n",
        "  xor_w2 += l_rate * grad_xor_w2\n",
        "  xor_b2 += np.sum(grad_l2,axis = 0,keepdims = True) * l1_rate\n",
        "\n",
        "  loss_collect.append(loss_value)\n",
        "\n",
        "print('xor_w1: ' , *xor_w1)\n",
        "print('xor_w2: ' , *xor_w2)\n",
        "print('xor_b1: ' , *xor_b1)\n",
        "print('xor_b2: ' , *xor_b2)  \n",
        "print('Predictions: ','\\n\\n\\n' , pred_y)\n",
        "#plt.figure(figsize = (12.8,9.6))\n",
        "plt.plot(range(n) , loss_collect)\n",
        "plt.grid(True)\n",
        "plt.xlabel('No. of epochs' , color = 'g')\n",
        "plt.ylabel('Loss', color = 'g')\n",
        "plt.title('Loss Value VS Epochs',color = 'r' )\n"
      ],
      "execution_count": null,
      "outputs": [
        {
          "output_type": "stream",
          "text": [
            "xor_w1:  [6.73900307 4.8230855 ] [6.72013936 4.81851023]\n",
            "xor_w2:  [10.32174097] [-11.03857363]\n",
            "xor_b1:  [-3.0258626 -7.3958569]\n",
            "xor_b2:  [-4.80170905]\n",
            "Predictions:  \n",
            "\n",
            "\n",
            " [[0.01140534]\n",
            " [0.98891872]\n",
            " [0.98890504]\n",
            " [0.0129858 ]]\n"
          ],
          "name": "stdout"
        },
        {
          "output_type": "execute_result",
          "data": {
            "text/plain": [
              "Text(0.5, 1.0, 'Loss Value VS Epochs')"
            ]
          },
          "metadata": {
            "tags": []
          },
          "execution_count": 16
        },
        {
          "output_type": "display_data",
          "data": {
            "image/png": "[encoded data removed]",
            "text/plain": [
              "<Figure size 432x288 with 1 Axes>"
            ]
          },
          "metadata": {
            "tags": [],
            "needs_background": "light"
          }
        }
      ]
    },
    {
      "cell_type": "markdown",
      "metadata": {
        "id": "1DjdQbqurA6v"
      },
      "source": [
        "## Prediction of Output"
      ]
    },
    {
      "cell_type": "code",
      "metadata": {
        "id": "tZtLMR3TnoL0"
      },
      "source": [
        "def value(x,w1,w2,b1,b2):\n",
        "  l1 = x.dot(w1)\n",
        "  l1 += b1\n",
        "  h1 = act_function(l1)\n",
        "\n",
        "  l2 = h1.dot(w2)\n",
        "  l2 += b2\n",
        "  pred_y = act_function(l2)\n",
        "  return pred_y\n",
        "\n",
        "def predict(x,k):\n",
        "  if k==0:\n",
        "    return value(x,xor_w1,xor_w2,xor_b1,xor_b2)\n",
        "  else:\n",
        "    return value(x,xnor_w1,xnor_w2,xnor_b1,xnor_b2)"
      ],
      "execution_count": null,
      "outputs": []
    },
    {
      "cell_type": "markdown",
      "metadata": {
        "id": "G2517fR5sWYJ"
      },
      "source": [
        "### **User Input** "
      ]
    },
    {
      "cell_type": "code",
      "metadata": {
        "colab": {
          "base_uri": "https://localhost:8080/"
        },
        "id": "btYMPXpasd_D",
        "outputId": "552c9bf9-5df0-49d4-ed5a-6419b0c1ae19"
      },
      "source": [
        "# Format for input: [[ <x1(first bit)> , <x2(2nd bit)> ]]\n",
        "# Format for task: < x3(task) >\n",
        "# task:\n",
        "#   1: XNOR\n",
        "#   0: XOR\n",
        "input_bits = np.array([[1,1]])\n",
        "task = 0\n",
        "print(*predict(input_bits , task)) "
      ],
      "execution_count": null,
      "outputs": [
        {
          "output_type": "stream",
          "text": [
            "[0.0114047]\n"
          ],
          "name": "stdout"
        }
      ]
    }
  ]
}